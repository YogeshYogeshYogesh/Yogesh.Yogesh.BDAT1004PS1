{
 "cells": [
  {
   "cell_type": "code",
   "execution_count": null,
   "id": "67f3da79",
   "metadata": {},
   "outputs": [],
   "source": [
    "# Question6"
   ]
  },
  {
   "cell_type": "code",
   "execution_count": 17,
   "id": "ae8ff5ec",
   "metadata": {},
   "outputs": [
    {
     "name": "stdout",
     "output_type": "stream",
     "text": [
      "input the word: awe\n"
     ]
    },
    {
     "data": {
      "text/plain": [
       "'aweway'"
      ]
     },
     "execution_count": 17,
     "metadata": {},
     "output_type": "execute_result"
    }
   ],
   "source": [
    "def pig(word):\n",
    "  word=word.lower()\n",
    "  if word[0]==\"a\" or word[0]==\"e\" or word[0]==\"i\" or word[0]==\"o\" or word[0]==\"u\":\n",
    "    word=word+\"way\"\n",
    "  else:\n",
    "    word=word[1:]+\"ay\"\n",
    "  return s\n",
    "word=input(\"input the word: \")\n",
    "pig(word)"
   ]
  },
  {
   "cell_type": "code",
   "execution_count": 2,
   "id": "bb86d326",
   "metadata": {},
   "outputs": [],
   "source": [
    "# Question7"
   ]
  },
  {
   "cell_type": "code",
   "execution_count": 17,
   "id": "6ffb2fb8",
   "metadata": {},
   "outputs": [
    {
     "name": "stdout",
     "output_type": "stream",
     "text": [
      "There are 15 patients of blood type A.\n",
      "There are 1 patients of blood type B.\n",
      "There are 13 patients of blood type AB.\n",
      "There are 15 patients of blood type O.\n",
      "There are 0 patients of blood type OO.\n"
     ]
    }
   ],
   "source": [
    "def bldcount(file_name):\n",
    "  text_file = open(file_name, \"r\")\n",
    "  data = text_file.read()\n",
    "  text_file.close()\n",
    "  bloodType=data.split()\n",
    "  a=0\n",
    "  b=0\n",
    "  ab=0\n",
    "  o=0\n",
    "  oo=0\n",
    "  for i in bloodType:\n",
    "    if i=='A':\n",
    "      a+=1\n",
    "    elif i=='B':\n",
    "      b+=1\n",
    "    elif i==\"AB\":\n",
    "      ab+=1\n",
    "    elif i=='O':\n",
    "      o+=1\n",
    "    elif i==\"oo\":\n",
    "      oo+=1\n",
    "  print(\"There are \"+str(a)+\" patients of blood type A.\")\n",
    "  print(\"There are \"+str(b)+\" patients of blood type B.\")\n",
    "  print(\"There are \"+str(ab)+\" patients of blood type AB.\")\n",
    "  print(\"There are \"+str(o)+\" patients of blood type O.\")\n",
    "  print(\"There are \"+str(oo)+\" patients of blood type OO.\")\n",
    "bldcount(\"bloodgroup.txt\")"
   ]
  },
  {
   "cell_type": "code",
   "execution_count": null,
   "id": "7ff27f47",
   "metadata": {},
   "outputs": [],
   "source": [
    "# Question9"
   ]
  },
  {
   "cell_type": "code",
   "execution_count": null,
   "id": "b3c9a413",
   "metadata": {},
   "outputs": [],
   "source": [
    "1. TypeError: unsupported operand type(s) for +: 'int' and 'str'\n",
    "2. IndexError: list index out of range\n",
    "3. ValueError: math domain error\n",
    "4. NameError: name 'x' is not defined\n",
    "5. FileNotFoundError: [Errno 2] No such file or directory: 'File_Name'"
   ]
  },
  {
   "cell_type": "code",
   "execution_count": 18,
   "id": "dbd317b3",
   "metadata": {},
   "outputs": [
    {
     "data": {
      "text/plain": [
       "2.3323400000000003"
      ]
     },
     "execution_count": 18,
     "metadata": {},
     "output_type": "execute_result"
    }
   ],
   "source": [
    "import codecs\n",
    "\n",
    "def curconv(curr,amnt):\n",
    "  pairs = [line.split() for line in codecs.open(\"currency.txt\",encoding=\"utf-8\")]\n",
    "  for i in range(len(pairs)):\n",
    "    if curr == pairs[i][0]:\n",
    "      break\n",
    "  return amnt*float(pairs[i][1])\n",
    "\n",
    "curconv('PHP',100)"
   ]
  },
  {
   "cell_type": "code",
   "execution_count": null,
   "id": "8eda03fc",
   "metadata": {},
   "outputs": [],
   "source": [
    "# Question 10"
   ]
  },
  {
   "cell_type": "code",
   "execution_count": 11,
   "id": "af7e45c5",
   "metadata": {},
   "outputs": [
    {
     "name": "stdout",
     "output_type": "stream",
     "text": [
      "enter the wordqwedsadweewfr\n"
     ]
    },
    {
     "data": {
      "text/plain": [
       "[1, 0, 0, 2, 3, 1, 0, 0, 0, 0, 0, 0, 0, 0, 0, 0, 1, 1, 1, 0, 0, 0, 3, 0, 0, 0]"
      ]
     },
     "execution_count": 11,
     "metadata": {},
     "output_type": "execute_result"
    }
   ],
   "source": [
    "def frequencies(sentence):\n",
    "  Alphabet=['a','b','c','d','e','f','g','h','i','j','k','l','m','n','o','p','q','r','s','t','u','v','w','x','y','z']\n",
    "  list_count = []\n",
    "  for i in range(0,26):\n",
    "    list_count.append(sentence.count(Alphabet[i]))\n",
    "  return list_count\n",
    "\n",
    "frequencies(input(\"enter the word    \"))\n"
   ]
  },
  {
   "cell_type": "code",
   "execution_count": null,
   "id": "684df9f7",
   "metadata": {},
   "outputs": [],
   "source": []
  }
 ],
 "metadata": {
  "kernelspec": {
   "display_name": "Python 3",
   "language": "python",
   "name": "python3"
  },
  "language_info": {
   "codemirror_mode": {
    "name": "ipython",
    "version": 3
   },
   "file_extension": ".py",
   "mimetype": "text/x-python",
   "name": "python",
   "nbconvert_exporter": "python",
   "pygments_lexer": "ipython3",
   "version": "3.8.10"
  }
 },
 "nbformat": 4,
 "nbformat_minor": 5
}
